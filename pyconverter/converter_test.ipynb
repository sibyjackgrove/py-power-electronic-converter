{
 "cells": [
  {
   "cell_type": "code",
   "execution_count": null,
   "metadata": {},
   "outputs": [],
   "source": [
    "import numpy as np\n",
    "from scipy import signal as sg\n",
    "import matplotlib.pyplot as plt"
   ]
  },
  {
   "cell_type": "code",
   "execution_count": null,
   "metadata": {},
   "outputs": [],
   "source": [
    "import scipy\n",
    "scipy.__version__"
   ]
  },
  {
   "cell_type": "code",
   "execution_count": null,
   "metadata": {},
   "outputs": [],
   "source": [
    "1*sg.sawtooth(2*np.pi*10*1, width=0.5)"
   ]
  },
  {
   "cell_type": "code",
   "execution_count": null,
   "metadata": {},
   "outputs": [],
   "source": [
    "time = np.arange(0,1.0,0.001)\n",
    "saw_tooth = []\n",
    "for t in time:\n",
    "    #saw_tooth.append(1*sg.sawtooth(2*np.pi*10*t, width=0.5))\n",
    "    saw_tooth.append(1*sg.square(2*np.pi*10*t,0.9))"
   ]
  },
  {
   "cell_type": "code",
   "execution_count": null,
   "metadata": {},
   "outputs": [],
   "source": [
    "sg.square(2*np.pi*10*0.5),sg.sawtooth(2*np.pi*10*0.5, width=0.5)"
   ]
  },
  {
   "cell_type": "code",
   "execution_count": null,
   "metadata": {},
   "outputs": [],
   "source": [
    "saw_tooth"
   ]
  },
  {
   "cell_type": "code",
   "execution_count": null,
   "metadata": {},
   "outputs": [],
   "source": [
    "plot_signal(time, saw_tooth, show_plot=True)"
   ]
  },
  {
   "cell_type": "code",
   "execution_count": null,
   "metadata": {},
   "outputs": [],
   "source": [
    "def half_bridge_ideal(Vdc,status):\n",
    "    \"\"\"Simulates a bridge in inverter\"\"\"\n",
    "    \n",
    "    S11 = calc_primary(status)\n",
    "    S12 = calc_complimentary(S11)\n",
    "    \n",
    "    print('S11:{},S12:{}'.format(S11,S12))\n",
    "    Vo = (S11 - S12)*(Vdc/2)\n",
    "    \n",
    "    return Vo\n",
    "\n",
    "def single_phase_full_bridge_ideal(Vdc,S1,S2):\n",
    "    \"\"\"Simulates a bridge in inverter\"\"\"\n",
    "    \n",
    "    S11 = calc_primary(S1)\n",
    "    S12 = calc_complimentary(S1)\n",
    "    \n",
    "    S21 = calc_primary(S2)\n",
    "    S22 = calc_complimentary(S3)    \n",
    "    \n",
    "    \n",
    "    print('S1:{},S2:{}'.format(S11,S21))\n",
    "    \n",
    "    Vo = (2*S11 - S21)*(Vdc/3)   \n",
    "    \n",
    "    print('Vo:{}'.format(Vo))\n",
    "    \n",
    "    return Vo\n",
    "\n",
    "def three_phase_full_bridge_ideal(Vdc,S1,S2,S3):\n",
    "    \"\"\"Simulates a bridge in inverter\"\"\"\n",
    "    \n",
    "    S11 = calc_primary(S1)\n",
    "    S12 = calc_complimentary(S1)\n",
    "    \n",
    "    S21 = calc_primary(S2)\n",
    "    S22 = calc_complimentary(S2)\n",
    "    \n",
    "    S31 = calc_primary(S3)\n",
    "    S32 = calc_complimentary(S3)\n",
    "    \n",
    "    print('S1:{},S2:{},S3:{}'.format(S11,S21,S31))\n",
    "    \n",
    "    Vno =  (Vdc/6)*(2*S11+2*S21+2*S31-3)\n",
    "    \n",
    "    Van = (Vdc/2)*(S11-S12)-Vno\n",
    "    Vbn = (Vdc/2)*(S21-S22)-Vno\n",
    "    Vcn = (Vdc/2)*(S31-S32)-Vno\n",
    "    \n",
    "    #Van = (2*S11 - S21 - S31)*(Vdc/3)\n",
    "    #Vbn = (2*S21 - S11 - S31)*(Vdc/3)\n",
    "    #Vcn = (2*S31 - S21 - S11)*(Vdc/3)\n",
    "    print('Vno:{},Van+Vbn+Vcn:{}'.format(Vno,Van+Vbn+Vcn))\n",
    "    \n",
    "    print('Van:{},Vbn:{},Vcn:{}'.format(Van,Vbn,Vcn))\n",
    "    print('Vab:{},Vbc:{},Vca:{}'.format(Van-Vbn,Vbn-Vcn,Vcn-Van))\n",
    "    \n",
    "    return Van,Vbn,Vcn\n",
    "\n",
    "def calc_primary(status):\n",
    "    \"\"\"Calculate the primary switch.\"\"\"\n",
    "    \n",
    "    if status:\n",
    "        Sprimary = 1\n",
    "    else:\n",
    "        Sprimary = 0\n",
    "    \n",
    "    return Sprimary\n",
    "def calc_complimentary(Sprimary):\n",
    "    \"\"\"Calculate the complimenarty.\"\"\"\n",
    "    \n",
    "    Scomplimenatry = int(not Sprimary)\n",
    "    #Scomplimenatry = Scomplimenatry\n",
    "    \n",
    "    return Scomplimenatry\n",
    "def sinosoidalPWM(tf=1.0):\n",
    "    \"\"\"Create a sinusoidal PWM signal.\"\"\"\n",
    "    \n",
    "    Am = 1\n",
    "    fm = 10\n",
    "    \n",
    "    Ac = 1\n",
    "    fc = 100\n",
    "    dt = 1/(10*fc)\n",
    "    \n",
    "    \n",
    "    time = np.arange(0,tf,dt) #np.linspace(0, 2, 1000)\n",
    "    modulating_signal = sinosoid(Am,fm,time)\n",
    "    #modulating_signal = square(0.5,fm,1.0,time)\n",
    "    carrier_signal = sawtooth(Ac,fc,time)\n",
    "   \n",
    "    switching_signal = []\n",
    "    \n",
    "    plot_signal(time, modulating_signal,False)\n",
    "    plot_signal(time, carrier_signal,False)\n",
    "    \n",
    "    for m,c in zip(modulating_signal,carrier_signal):\n",
    "        if m>c:\n",
    "            switching_signal.append(1)\n",
    "        else:\n",
    "            switching_signal.append(0)\n",
    "    \n",
    "    plot_signal(time, switching_signal,True)\n",
    "    \n",
    "    return time,switching_signal\n",
    "    \n",
    "def square(amplitude,frequency,duty,time):\n",
    "    \"\"\"Create a sinusoid time series.\"\"\"\n",
    "    \n",
    "    return amplitude*sg.square(2*np.pi*frequency*time,duty)\n",
    "    \n",
    "def sinosoid(amplitude,frequency,time):\n",
    "    \"\"\"Create a sinusoid time series.\"\"\"\n",
    "    \n",
    "    return amplitude*np.sin(2*np.pi*frequency*time)\n",
    "\n",
    "def sawtooth(amplitude,frequency,time):\n",
    "    \"\"\"Create a sinusoid time series.\"\"\"\n",
    "    \n",
    "    T = 1/frequency\n",
    "    dt = time[1]-time[0]\n",
    "    print(T-dt)\n",
    "    return amplitude*sg.sawtooth(2*np.pi*frequency*time, width=0.5)\n",
    "\n",
    "def plot_signal(time, signal, show_plot=False):\n",
    "    \"\"\"Plot signal\"\"\"\n",
    "    \n",
    "    plt.plot(time, signal)\n",
    "    plt.xlabel('Time (s)')\n",
    "    plt.ylabel('Amplitude')\n",
    "    \n",
    "    if show_plot:\n",
    "        plt.show()"
   ]
  },
  {
   "cell_type": "code",
   "execution_count": null,
   "metadata": {},
   "outputs": [],
   "source": [
    "t,switching =sinosoidalPWM(0.1)"
   ]
  },
  {
   "cell_type": "code",
   "execution_count": null,
   "metadata": {
    "scrolled": true
   },
   "outputs": [],
   "source": [
    "Vo=[]\n",
    "for sw in switching:\n",
    "    Vo.append(half_bridge_ideal(100,sw))"
   ]
  },
  {
   "cell_type": "code",
   "execution_count": null,
   "metadata": {},
   "outputs": [],
   "source": [
    "plot_signal(t, Vo, show_plot=True)"
   ]
  },
  {
   "cell_type": "code",
   "execution_count": null,
   "metadata": {},
   "outputs": [],
   "source": [
    "1*sg.sawtooth(2*np.pi*2*np.linspace(0, 2, 1000), width=0.5)"
   ]
  },
  {
   "cell_type": "code",
   "execution_count": null,
   "metadata": {},
   "outputs": [],
   "source": [
    "plot_signal(np.linspace(0, 2, 10), 1*sg.sawtooth(2*np.pi*100*np.linspace(0, 2, 10), width=0.5), show_plot=True)"
   ]
  },
  {
   "cell_type": "code",
   "execution_count": null,
   "metadata": {},
   "outputs": [],
   "source": [
    "time = np.arange(0,1,0.001) #np.linspace(0, 2, 1000)\n",
    "plot_signal(time,sawtooth(1,100,time))"
   ]
  },
  {
   "cell_type": "code",
   "execution_count": null,
   "metadata": {},
   "outputs": [],
   "source": [
    "va,vb,vc = three_phase_full_bridge_ideal(100,1,1,1)"
   ]
  },
  {
   "cell_type": "code",
   "execution_count": null,
   "metadata": {},
   "outputs": [],
   "source": [
    "half_bridge_ideal(100,0)"
   ]
  },
  {
   "cell_type": "code",
   "execution_count": null,
   "metadata": {},
   "outputs": [],
   "source": [
    "va-vb,vb-vc,vc-va"
   ]
  },
  {
   "cell_type": "code",
   "execution_count": null,
   "metadata": {},
   "outputs": [],
   "source": [
    "np.linspace(0, 2, 1000)"
   ]
  },
  {
   "cell_type": "code",
   "execution_count": null,
   "metadata": {},
   "outputs": [],
   "source": [
    "t_t = np.arange(0,1,0.01)"
   ]
  },
  {
   "cell_type": "code",
   "execution_count": null,
   "metadata": {},
   "outputs": [],
   "source": [
    "T = 0.1\n",
    "m = 0.5\n",
    "on_time = m*T\n",
    "for t in t:\n",
    "    if t > on_time:\n",
    "        V0.append(half_bridge_ideal(100,switch_status))\n",
    "    else:\n",
    "        "
   ]
  }
 ],
 "metadata": {
  "kernelspec": {
   "display_name": "Python 3",
   "language": "python",
   "name": "python3"
  },
  "language_info": {
   "codemirror_mode": {
    "name": "ipython",
    "version": 3
   },
   "file_extension": ".py",
   "mimetype": "text/x-python",
   "name": "python",
   "nbconvert_exporter": "python",
   "pygments_lexer": "ipython3",
   "version": "3.7.3"
  }
 },
 "nbformat": 4,
 "nbformat_minor": 2
}
